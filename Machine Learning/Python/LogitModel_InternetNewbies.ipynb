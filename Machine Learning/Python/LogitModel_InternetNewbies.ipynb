{
 "cells": [
  {
   "cell_type": "markdown",
   "metadata": {},
   "source": [
    "# LOGISTIC REGRESSION WITH SCIKIT-LEARN\n",
    "This is an example of logistic regression model in Python with the scikit-learn module, performed with Internet Demographics data set. I have used a more sophisticated version of this approach in designing and building \"CAPITALONE RECRUITMENT APPLICATION (CORA)\". The APP is CapitalOne's official entry to South By SouthWest conference."
   ]
  },
  {
   "cell_type": "markdown",
   "metadata": {},
   "source": [
    "# DATASET\n",
    "I am using the Internet Demographics data set taken from http://www-stat.wharton.upenn.edu/~waterman/DataSets/uva.txt"
   ]
  },
  {
   "cell_type": "markdown",
   "metadata": {},
   "source": [
    "# DESCRIPTION OF VARIABLES\n",
    "The dataset contains 10 variables:\n",
    "\n",
    "Newbie, Age, Gender, Household.Income, Sexual.Preference, Country, Education.Attainment, Major.Occupation, Marital.Status, Years.on.Internet     \n",
    " "
   ]
  },
  {
   "cell_type": "markdown",
   "metadata": {},
   "source": [
    "# PROBLEM STATEMENT\n",
    "Try to classify users into the Newbie category; that is those that have been on the Internet for less than a year, based on a set of demographic indicators. I am treating this as a multiple logistic regression problem."
   ]
  },
  {
   "cell_type": "markdown",
   "metadata": {},
   "source": [
    "# IMPORT MODULES"
   ]
  },
  {
   "cell_type": "code",
   "execution_count": 14,
   "metadata": {
    "collapsed": true
   },
   "outputs": [],
   "source": [
    "import numpy as np\n",
    "import pandas as pd\n",
    "import matplotlib.pyplot as plt\n",
    "from patsy import dmatrices\n",
    "import statsmodels.api as sm\n",
    "from sklearn.linear_model import LogisticRegression\n",
    "from sklearn.cross_validation import train_test_split\n",
    "from sklearn import metrics\n",
    "from sklearn.cross_validation import cross_val_score"
   ]
  },
  {
   "cell_type": "markdown",
   "metadata": {},
   "source": [
    "# DATA EXPLORATION"
   ]
  },
  {
   "cell_type": "code",
   "execution_count": 15,
   "metadata": {
    "collapsed": false
   },
   "outputs": [
    {
     "name": "stdout",
     "output_type": "stream",
     "text": [
      "       who  Newbie  Age  Gender Household Income Sexual Preference  \\\n",
      "0  id74364       0   54    Male           $50-74          Gay male   \n",
      "1  id84505       0   39  Female        Over $100      Heterosexual   \n",
      "2  id84509       1   49  Female           $40-49      Heterosexual   \n",
      "3  id87028       1   22  Female           $40-49      Heterosexual   \n",
      "4  id76087       0   20    Male           $30-39          Bisexual   \n",
      "\n",
      "      Country Education Attainment Major Occupation Marital Status  \\\n",
      "0     Ontario         Some College         Computer          Other   \n",
      "1      Sweden         Professional            Other          Other   \n",
      "2  Washington         Some College       Management          Other   \n",
      "3     Florida         Some College         Computer        Married   \n",
      "4  New Jersey         Some College        Education         Single   \n",
      "\n",
      "  Years on Internet  \n",
      "0            4-6 yr  \n",
      "1            1-3 yr  \n",
      "2        Under 6 mo  \n",
      "3           6-12 mo  \n",
      "4            1-3 yr  \n",
      "             Newbie           Age\n",
      "count  19583.000000  19022.000000\n",
      "mean       0.253383     35.222269\n",
      "std        0.434959     12.642339\n",
      "min        0.000000      5.000000\n",
      "25%        0.000000     25.000000\n",
      "50%        0.000000     33.000000\n",
      "75%        1.000000     44.000000\n",
      "max        1.000000     80.000000\n",
      "(19583, 11)\n"
     ]
    }
   ],
   "source": [
    "data = pd.read_csv('C:/Users/happy/Documents/Datasets/InternetNewbie.csv')\n",
    "\n",
    "print(data.head())\n",
    "print(data.describe())\n",
    "print(data.shape)"
   ]
  },
  {
   "cell_type": "code",
   "execution_count": 23,
   "metadata": {
    "collapsed": false
   },
   "outputs": [
    {
     "name": "stdout",
     "output_type": "stream",
     "text": [
      "0    11596\n",
      "1     3836\n",
      "Name: Newbie, dtype: int64\n"
     ]
    }
   ],
   "source": [
    "# Number of Newbies in the dataset\n",
    "print(pd.value_counts(data['Newbie']))"
   ]
  },
  {
   "cell_type": "code",
   "execution_count": 33,
   "metadata": {
    "collapsed": false
   },
   "outputs": [
    {
     "data": {
      "text/html": [
       "<div>\n",
       "<table border=\"1\" class=\"dataframe\">\n",
       "  <thead>\n",
       "    <tr style=\"text-align: right;\">\n",
       "      <th></th>\n",
       "      <th>Newbie</th>\n",
       "      <th>Age</th>\n",
       "      <th>Newbie_c</th>\n",
       "    </tr>\n",
       "    <tr>\n",
       "      <th>Income</th>\n",
       "      <th></th>\n",
       "      <th></th>\n",
       "      <th></th>\n",
       "    </tr>\n",
       "  </thead>\n",
       "  <tbody>\n",
       "    <tr>\n",
       "      <th>$10-19</th>\n",
       "      <td>0.315559</td>\n",
       "      <td>30.567308</td>\n",
       "      <td>0.315559</td>\n",
       "    </tr>\n",
       "    <tr>\n",
       "      <th>$20-29</th>\n",
       "      <td>0.297150</td>\n",
       "      <td>32.847180</td>\n",
       "      <td>0.297150</td>\n",
       "    </tr>\n",
       "    <tr>\n",
       "      <th>$30-39</th>\n",
       "      <td>0.280790</td>\n",
       "      <td>34.587316</td>\n",
       "      <td>0.280790</td>\n",
       "    </tr>\n",
       "    <tr>\n",
       "      <th>$40-49</th>\n",
       "      <td>0.270070</td>\n",
       "      <td>36.223202</td>\n",
       "      <td>0.270070</td>\n",
       "    </tr>\n",
       "    <tr>\n",
       "      <th>$50-74</th>\n",
       "      <td>0.237161</td>\n",
       "      <td>37.745093</td>\n",
       "      <td>0.237161</td>\n",
       "    </tr>\n",
       "    <tr>\n",
       "      <th>$75-99</th>\n",
       "      <td>0.184295</td>\n",
       "      <td>38.997329</td>\n",
       "      <td>0.184295</td>\n",
       "    </tr>\n",
       "    <tr>\n",
       "      <th>Over $100</th>\n",
       "      <td>0.147764</td>\n",
       "      <td>39.139040</td>\n",
       "      <td>0.147764</td>\n",
       "    </tr>\n",
       "    <tr>\n",
       "      <th>Under $10</th>\n",
       "      <td>0.332956</td>\n",
       "      <td>25.377123</td>\n",
       "      <td>0.332956</td>\n",
       "    </tr>\n",
       "  </tbody>\n",
       "</table>\n",
       "</div>"
      ],
      "text/plain": [
       "             Newbie        Age  Newbie_c\n",
       "Income                                  \n",
       "$10-19     0.315559  30.567308  0.315559\n",
       "$20-29     0.297150  32.847180  0.297150\n",
       "$30-39     0.280790  34.587316  0.280790\n",
       "$40-49     0.270070  36.223202  0.270070\n",
       "$50-74     0.237161  37.745093  0.237161\n",
       "$75-99     0.184295  38.997329  0.184295\n",
       "Over $100  0.147764  39.139040  0.147764\n",
       "Under $10  0.332956  25.377123  0.332956"
      ]
     },
     "execution_count": 33,
     "metadata": {},
     "output_type": "execute_result"
    }
   ],
   "source": [
    "# Total number of Newbie's and non-Newbie's\n",
    "data.groupby('Newbie').sum()\n",
    "#data.groupby('Preference').mean()\n",
    "\n",
    "data.groupby('Gender').mean()\n",
    "data.groupby('Income').mean()"
   ]
  },
  {
   "cell_type": "markdown",
   "metadata": {},
   "source": [
    "# DATA PRE-PROCESSING"
   ]
  },
  {
   "cell_type": "code",
   "execution_count": 28,
   "metadata": {
    "collapsed": false
   },
   "outputs": [
    {
     "name": "stdout",
     "output_type": "stream",
     "text": [
      "0\n"
     ]
    }
   ],
   "source": [
    "# Total number of NaN cells\n",
    "print(data.isnull().sum().sum())\n",
    "\n",
    "# Drop rows with NaN cells \n",
    "data = data.dropna()"
   ]
  },
  {
   "cell_type": "code",
   "execution_count": 30,
   "metadata": {
    "collapsed": true
   },
   "outputs": [],
   "source": [
    "# Simplify Column names\n",
    "data = data.rename(columns=lambda x: x.replace('Education Attainment', 'Education'))\n",
    "data = data.rename(columns=lambda x: x.replace('Sexual Preference', 'Preference'))\n",
    "data = data.rename(columns=lambda x: x.replace('Household Income', 'Income'))\n",
    "data = data.rename(columns=lambda x: x.replace('Marital Status', 'MaritalStatus'))"
   ]
  },
  {
   "cell_type": "code",
   "execution_count": 32,
   "metadata": {
    "collapsed": false
   },
   "outputs": [
    {
     "name": "stdout",
     "output_type": "stream",
     "text": [
      "       who  Newbie  Age  Gender     Income    Preference     Country  \\\n",
      "0  id74364       0   54    Male     $50-74      Gay male     Ontario   \n",
      "1  id84505       0   39  Female  Over $100  Heterosexual      Sweden   \n",
      "2  id84509       1   49  Female     $40-49  Heterosexual  Washington   \n",
      "3  id87028       1   22  Female     $40-49  Heterosexual     Florida   \n",
      "4  id76087       0   20    Male     $30-39      Bisexual  New Jersey   \n",
      "\n",
      "      Education Major Occupation MaritalStatus Years on Internet  Newbie_c  \n",
      "0  Some College         Computer         Other            4-6 yr         0  \n",
      "1  Professional            Other         Other            1-3 yr         0  \n",
      "2  Some College       Management         Other        Under 6 mo         1  \n",
      "3  Some College         Computer       Married           6-12 mo         1  \n",
      "4  Some College        Education        Single            1-3 yr         0  \n"
     ]
    }
   ],
   "source": [
    "# Add \"Newbie_c\" column: 1 represents Newbie, 0 represents not\n",
    "data['Newbie_c'] = (data.Newbie > 0).astype(int)\n",
    "print(data.head())"
   ]
  },
  {
   "cell_type": "markdown",
   "metadata": {},
   "source": [
    "# DATA VISUALIZATION"
   ]
  },
  {
   "cell_type": "code",
   "execution_count": 36,
   "metadata": {
    "collapsed": false
   },
   "outputs": [
    {
     "data": {
      "text/plain": [
       "<matplotlib.text.Text at 0x4fc73b0>"
      ]
     },
     "execution_count": 36,
     "metadata": {},
     "output_type": "execute_result"
    },
    {
     "data": {
      "image/png": "[encoded data removed]",
      "text/plain": [
       "<matplotlib.figure.Figure at 0xa5332b0>"
      ]
     },
     "metadata": {},
     "output_type": "display_data"
    }
   ],
   "source": [
    "%matplotlib inline\n",
    "data.Age.hist()\n",
    "plt.title('Histogram of Age')\n",
    "plt.xlabel('Age (Years)')\n",
    "plt.ylabel('Frequency')"
   ]
  },
  {
   "cell_type": "code",
   "execution_count": 37,
   "metadata": {
    "collapsed": false
   },
   "outputs": [
    {
     "data": {
      "text/plain": [
       "<matplotlib.text.Text at 0xbf37cf0>"
      ]
     },
     "execution_count": 37,
     "metadata": {},
     "output_type": "execute_result"
    },
    {
     "data": {
      "image/png": "[encoded data removed]",
      "text/plain": [
       "<matplotlib.figure.Figure at 0xa530990>"
      ]
     },
     "metadata": {},
     "output_type": "display_data"
    }
   ],
   "source": [
    "pd.crosstab(data.Education, data.Newbie.astype(bool)).plot(kind='bar')\n",
    "plt.title('Education distribution by Newbie status')\n",
    "plt.xlabel('Education')\n",
    "plt.ylabel('Frequency')\n"
   ]
  },
  {
   "cell_type": "code",
   "execution_count": 38,
   "metadata": {
    "collapsed": false
   },
   "outputs": [
    {
     "name": "stdout",
     "output_type": "stream",
     "text": [
      "       who  Newbie  Age  Gender     Income    Preference     Country  \\\n",
      "0  id74364       0   54    Male     $50-74      Gay male     Ontario   \n",
      "1  id84505       0   39  Female  Over $100  Heterosexual      Sweden   \n",
      "2  id84509       1   49  Female     $40-49  Heterosexual  Washington   \n",
      "3  id87028       1   22  Female     $40-49  Heterosexual     Florida   \n",
      "4  id76087       0   20    Male     $30-39      Bisexual  New Jersey   \n",
      "\n",
      "      Education Major Occupation MaritalStatus Years on Internet  Newbie_c  \n",
      "0  Some College         Computer         Other            4-6 yr         0  \n",
      "1  Professional            Other         Other            1-3 yr         0  \n",
      "2  Some College       Management         Other        Under 6 mo         1  \n",
      "3  Some College         Computer       Married           6-12 mo         1  \n",
      "4  Some College        Education        Single            1-3 yr         0  \n"
     ]
    }
   ],
   "source": [
    "# Convert columns to categories\n",
    "data[\"Gender\"] = data[\"Gender\"].astype('category')\n",
    "data[\"Education\"] = data[\"Education\"].astype('category')\n",
    "data[\"Preference\"] = data[\"Preference\"].astype('category')\n",
    "data[\"Income\"] = data[\"Income\"].astype('category')\n",
    "data[\"MaritalStatus\"] = data[\"MaritalStatus\"].astype('category')\n",
    "print(data.head())\n"
   ]
  },
  {
   "cell_type": "code",
   "execution_count": 39,
   "metadata": {
    "collapsed": false
   },
   "outputs": [
    {
     "data": {
      "text/plain": [
       "<matplotlib.text.Text at 0x463a850>"
      ]
     },
     "execution_count": 39,
     "metadata": {},
     "output_type": "execute_result"
    },
    {
     "data": {
      "image/png": "[encoded data removed]",
      "text/plain": [
       "<matplotlib.figure.Figure at 0xa52a770>"
      ]
     },
     "metadata": {},
     "output_type": "display_data"
    }
   ],
   "source": [
    "pd.crosstab(data['Preference'], data.Newbie.astype(bool)).plot(kind='bar')\n",
    "plt.title('Sexual Preference distribution by Newbie status')\n",
    "plt.xlabel('Sexual Preference')\n",
    "plt.ylabel('Frequency')\n"
   ]
  },
  {
   "cell_type": "markdown",
   "metadata": {},
   "source": [
    "# PREPARE DATA FOR LOGISTIC REGRESSION"
   ]
  },
  {
   "cell_type": "code",
   "execution_count": 41,
   "metadata": {
    "collapsed": false
   },
   "outputs": [
    {
     "name": "stdout",
     "output_type": "stream",
     "text": [
      "Index(['Intercept', 'Gender[T.Male]', 'Education[T.Doctoral]',\n",
      "       'Education[T.Grammar]', 'Education[T.High School]',\n",
      "       'Education[T.Masters]', 'Education[T.Other]',\n",
      "       'Education[T.Professional]', 'Education[T.Some College]',\n",
      "       'Education[T.Special]', 'Preference[T.Gay male]',\n",
      "       'Preference[T.Heterosexual]', 'Preference[T.Lesbian]',\n",
      "       'Preference[T.Transgender]', 'Income[T.$20-29]', 'Income[T.$30-39]',\n",
      "       'Income[T.$40-49]', 'Income[T.$50-74]', 'Income[T.$75-99]',\n",
      "       'Income[T.Over $100]', 'Income[T.Under $10]',\n",
      "       'MaritalStatus[T.Married]', 'MaritalStatus[T.Other]',\n",
      "       'MaritalStatus[T.Separated]', 'MaritalStatus[T.Single]',\n",
      "       'MaritalStatus[T.Widowed]', 'Age'],\n",
      "      dtype='object')\n"
     ]
    }
   ],
   "source": [
    "# MODEL features\n",
    "y, X = dmatrices('Newbie_c ~ Age + Gender + Education + Preference + Income + MaritalStatus',\n",
    "                  data, return_type = \"dataframe\")\n",
    "print(X.columns)"
   ]
  },
  {
   "cell_type": "code",
   "execution_count": 42,
   "metadata": {
    "collapsed": true
   },
   "outputs": [],
   "source": [
    "# Flatten response variable y into a 1-D array\n",
    "y = np.ravel(y)"
   ]
  },
  {
   "cell_type": "markdown",
   "metadata": {},
   "source": [
    "# INSTANTIATE A LOGISTIC REGRESSION MODEL AND FIT WITH X AND Y"
   ]
  },
  {
   "cell_type": "code",
   "execution_count": 43,
   "metadata": {
    "collapsed": true
   },
   "outputs": [],
   "source": [
    "model = LogisticRegression()\n",
    "model = model.fit(X, y)"
   ]
  },
  {
   "cell_type": "code",
   "execution_count": 44,
   "metadata": {
    "collapsed": false
   },
   "outputs": [
    {
     "data": {
      "text/plain": [
       "0.75738724727838258"
      ]
     },
     "execution_count": 44,
     "metadata": {},
     "output_type": "execute_result"
    }
   ],
   "source": [
    "# Check the accuracy on the training set\n",
    "model.score(X, y)"
   ]
  },
  {
   "cell_type": "code",
   "execution_count": 45,
   "metadata": {
    "collapsed": false
   },
   "outputs": [
    {
     "data": {
      "text/plain": [
       "0.24857439087610161"
      ]
     },
     "execution_count": 45,
     "metadata": {},
     "output_type": "execute_result"
    }
   ],
   "source": [
    "# Percentage of Newbies\n",
    "y.mean()"
   ]
  },
  {
   "cell_type": "code",
   "execution_count": 46,
   "metadata": {
    "collapsed": true
   },
   "outputs": [],
   "source": [
    "# NOTE THAT 24% are Newbies. So we're doing better than the null error rate, but not by much."
   ]
  },
  {
   "cell_type": "code",
   "execution_count": 49,
   "metadata": {
    "collapsed": false
   },
   "outputs": [],
   "source": [
    "X_train, X_test, y_train, y_test = train_test_split(X, y, test_size=0.3, random_state=0)\n",
    "\n",
    "model2 = LogisticRegression()\n",
    "model2.fit(X_train, y_train)\n",
    "predicted = model2.predict(X_test)"
   ]
  },
  {
   "cell_type": "markdown",
   "metadata": {},
   "source": [
    "# EVALUATION METRICS"
   ]
  },
  {
   "cell_type": "code",
   "execution_count": 51,
   "metadata": {
    "collapsed": false
   },
   "outputs": [
    {
     "name": "stdout",
     "output_type": "stream",
     "text": [
      "0.755075593952\n"
     ]
    }
   ],
   "source": [
    "print(metrics.accuracy_score(y_test, predicted))"
   ]
  },
  {
   "cell_type": "code",
   "execution_count": 52,
   "metadata": {
    "collapsed": true
   },
   "outputs": [],
   "source": [
    "# The accuracy is 76%"
   ]
  },
  {
   "cell_type": "code",
   "execution_count": 53,
   "metadata": {
    "collapsed": false
   },
   "outputs": [
    {
     "name": "stdout",
     "output_type": "stream",
     "text": [
      "[[3332  136]\n",
      " [ 998  164]]\n",
      "             precision    recall  f1-score   support\n",
      "\n",
      "        0.0       0.77      0.96      0.85      3468\n",
      "        1.0       0.55      0.14      0.22      1162\n",
      "\n",
      "avg / total       0.71      0.76      0.70      4630\n",
      "\n"
     ]
    }
   ],
   "source": [
    "print(metrics.confusion_matrix(y_test, predicted))\n",
    "print(metrics.classification_report(y_test, predicted))"
   ]
  },
  {
   "cell_type": "markdown",
   "metadata": {},
   "source": [
    "# MODEL EVALUATION USING CROSS-VALIDATION"
   ]
  },
  {
   "cell_type": "code",
   "execution_count": 54,
   "metadata": {
    "collapsed": false
   },
   "outputs": [
    {
     "name": "stdout",
     "output_type": "stream",
     "text": [
      "[ 0.75582902  0.75518135  0.76165803  0.74546632  0.75906736  0.75777202\n",
      "  0.75097276  0.75680934  0.76783398  0.7542153 ]\n",
      "0.756480548107\n"
     ]
    }
   ],
   "source": [
    "scores = cross_val_score(LogisticRegression(), X, y, scoring='accuracy', cv=10)\n",
    "print(scores)\n",
    "print(scores.mean())"
   ]
  },
  {
   "cell_type": "code",
   "execution_count": 55,
   "metadata": {
    "collapsed": true
   },
   "outputs": [],
   "source": [
    "# STILL PEERFORMING AT 76% ACCURACY"
   ]
  },
  {
   "cell_type": "markdown",
   "metadata": {},
   "source": [
    "# PREDICT A NEWBIE INTERNET USER"
   ]
  },
  {
   "cell_type": "code",
   "execution_count": 68,
   "metadata": {
    "collapsed": false
   },
   "outputs": [],
   "source": [
    "# model.predict_proba(np.array([DATA HERE]))"
   ]
  },
  {
   "cell_type": "code",
   "execution_count": null,
   "metadata": {
    "collapsed": true
   },
   "outputs": [],
   "source": []
  }
 ],
 "metadata": {
  "kernelspec": {
   "display_name": "Python 3",
   "language": "python",
   "name": "python3"
  },
  "language_info": {
   "codemirror_mode": {
    "name": "ipython",
    "version": 3
   },
   "file_extension": ".py",
   "mimetype": "text/x-python",
   "name": "python",
   "nbconvert_exporter": "python",
   "pygments_lexer": "ipython3",
   "version": "3.5.1"
  }
 },
 "nbformat": 4,
 "nbformat_minor": 0
}
